{
 "cells": [
  {
   "cell_type": "code",
   "execution_count": 10,
   "metadata": {
    "pycharm": {
     "is_executing": false
    }
   },
   "outputs": [],
   "source": [
    "%matplotlib inline\n",
    "from matplotlib import pyplot as plt\n",
    "\n",
    "import datetime\n",
    "import os.path\n",
    "import backtrader as bt\n",
    "import numpy as np\n",
    "from pprint import pformat\n",
    "import pandas as pd\n",
    "import matplotlib.pyplot as plt\n",
    "import datetime\n",
    "import sys\n",
    "import random\n",
    "\n",
    "sys.path.append('../..')\n",
    "from mc.montecarlo import MonteCarlo"
   ]
  },
  {
   "cell_type": "markdown",
   "metadata": {},
   "source": [
    "# Strategy"
   ]
  },
  {
   "cell_type": "code",
   "execution_count": 11,
   "metadata": {
    "pycharm": {
     "is_executing": false
    }
   },
   "outputs": [],
   "source": [
    "class TestStrategy(bt.Strategy):\n",
    "    params = (\n",
    "        ('stop_loss', 0.035),\n",
    "        ('live', False),\n",
    "        ('walkforward', None),\n",
    "    )\n",
    "        \n",
    "    def __init__(self):\n",
    "        self.dataclose = self.datas[0].close\n",
    "        # To keep track of pending orders and buy price/commission\n",
    "\n",
    "        self.order = None\n",
    "        self.buyprice = None\n",
    "        self.buycomm = None\n",
    "        self.pp = pp = bt.indicators.PivotPoint(self.data1)\n",
    "\n",
    "        # Trim the indicators if we are running live, just need the current one\n",
    "        if self.params.live:\n",
    "            pass\n",
    "        \n",
    "        self.d = {\n",
    "#             'sma': bt.indicators.SimpleMovingAverage( self.datas[0],  period= self.params.maperiod),\n",
    "            'pivot': pp,\n",
    "            'longcross': bt.indicators.CrossUp(self.dataclose, pp.s1()),\n",
    "            'longsellcross': bt.indicators.CrossUp(self.dataclose, pp.r2()),\n",
    "            'shortcross':  bt.indicators.CrossDown(self.dataclose, pp.r1()),\n",
    "            'shortsellcross': bt.indicators.CrossDown(self.dataclose, pp.s2()),\n",
    "            \n",
    "        }\n",
    "\n",
    "        if self.params.walkforward:\n",
    "            self.wfsma = []\n",
    "            for run in self.params.walkforward:\n",
    "                params=dict(run['best_insample_param'])\n",
    "                self.wfsma.append({\n",
    "#                     'sma': bt.indicators.SimpleMovingAverage(self.datas[0], period=params['maperiod']),\n",
    "                    'pivot': bt.indicators.PivotPoint(self.data1),\n",
    "                    'longcross': bt.indicators.CrossUp(self.dataclose, pp.s1()),\n",
    "                    'longsellcross': bt.indicators.CrossUp(self.dataclose, pp.r2()),\n",
    "                    'shortcross':  bt.indicators.CrossDown(self.dataclose, pp.r1()),\n",
    "                    'shortsellcross': bt.indicators.CrossDown(self.dataclose, pp.s2()),\n",
    "                    'test_period': run['oos'],\n",
    "                    'train_param': params,\n",
    "                }) \n",
    "\n",
    "        \n",
    "    def set_wf_params(self):\n",
    "        for row in self.wfsma:\n",
    "            start, end = row['test_period']\n",
    "            if self.datetime.datetime() >= start and self.datetime.datetime() < end:\n",
    "                self.d = row\n",
    "            \n",
    "    def next(self):\n",
    "\n",
    "        if self.params.walkforward: self.set_wf_params()\n",
    "        if self.order: return\n",
    "        \n",
    "        if not self.position:\n",
    "            if  self.d['longcross'] == 1:  \n",
    "                self.order = self.buy()\n",
    "                stop_price = self.dataclose * (1.0 - self.p.stop_loss)\n",
    "                self.sell(exectype=bt.Order.Stop, price=stop_price)\n",
    "                \n",
    "            elif self.d['shortcross'] == 1:\n",
    "                self.order = self.sell()\n",
    "                stop_price = self.dataclose * (1.0 - self.p.stop_loss)\n",
    "                self.buy(exectype=bt.Order.Stop, price=stop_price)\n",
    "        else:\n",
    "            if self.position.size > 0 and self.d['longsellcross'] == 1:\n",
    "                self.order = self.close()\n",
    "            elif self.position.size < 0 and self.d['shortsellcross'] == 1:\n",
    "                self.order = self.close()\n",
    "\n",
    "    def notify_order(self, order):\n",
    "        if order.status in [order.Submitted, order.Accepted]:\n",
    "            return\n",
    "        if order.status in [order.Completed]:\n",
    "            self.bar_executed = len(self)\n",
    "        # Write down: no pending order\n",
    "        self.order= None\n",
    "\n"
   ]
  },
  {
   "cell_type": "markdown",
   "metadata": {},
   "source": [
    "## Analyzers"
   ]
  },
  {
   "cell_type": "code",
   "execution_count": 12,
   "metadata": {
    "pycharm": {
     "is_executing": false
    }
   },
   "outputs": [],
   "source": [
    "class myAnalyzer(bt.Analyzer):\n",
    "    params=(\n",
    "        ('printlog', None),\n",
    "    )\n",
    "    \n",
    "    def __init__(self):\n",
    "        self.equitydf=pd.DataFrame()\n",
    "\n",
    "    def log(self, txt, dt=None, doprint=False):\n",
    "        if self.p.printlog or doprint:\n",
    "            dt= dt or self.datas[0].datetime.date(0)\n",
    "            print(f'{dt.isoformat()}, {txt}')\n",
    "            \n",
    "    def start(self):\n",
    "        self.trade_count = 0\n",
    "        self.starting_nav= self.strategy.broker.get_value() \n",
    "        \n",
    "        self.num_trades = 0\n",
    "        self.first_trade_open = None\n",
    "        \n",
    "    def notify_order(self, order):\n",
    "        if order.status in [order.Submitted, order.Accepted]:\n",
    "            if order.isbuy():\n",
    "                self.log(f'BUY CREATE, {self.strategy.dataclose[0]:.2f}')\n",
    "            elif order.issell():\n",
    "                self.log(f\"SELL CREATE {self.strategy.dataclose[0]:.2f}\")\n",
    "                \n",
    "        if order.status in [order.Completed]:\n",
    "            if order.isbuy():\n",
    "                self.log(\n",
    "                    'BUY EXECUTED, Price: %.2f, Cost: %.2f, Comm %.2f' %\n",
    "                    (order.executed.price,\n",
    "                     order.executed.value,\n",
    "                     order.executed.comm))\n",
    "\n",
    "            else:  # Sell\n",
    "                self.log('SELL EXECUTED, Price: %.2f, Cost: %.2f, Comm %.2f' %\n",
    "                         (order.executed.price,\n",
    "                          order.executed.value,\n",
    "                          order.executed.comm))\n",
    "            self.bar_executed = len(self)\n",
    "\n",
    "        elif order.status in [order.Canceled, order.Margin, order.Rejected]:\n",
    "            self.log('Order Canceled/Margin/Rejected')\n",
    "\n",
    "    def notify_trade(self, trade):\n",
    "        if not self.first_trade_open:\n",
    "            self.first_trade_open = self.strategy.datetime.datetime()\n",
    "            self.equitydf.at[self.first_trade_open, 'equity'] = self.starting_nav\n",
    "\n",
    "        if trade.isclosed:\n",
    "            self.num_trades += 1\n",
    "            self.equitydf.at[self.strategy.datetime.datetime(), 'equity'] = self.strategy.broker.getvalue()\n",
    "            \n",
    "        self.trade_count += 1 # below\n",
    "        if not trade.isclosed:\n",
    "            return\n",
    "        self.log(f'OPERATION PROFIT, GROSS {trade.pnl:.2f}, NET {trade.pnlcomm:.2f}')\n",
    "    \n",
    "    def stop(self):\n",
    "        self.ending_nav = self.strategy.broker.getvalue()\n",
    "        self.params= self.strategy.params\n",
    "        self.log(f'''{vars(self.params)} \\tEnding Value {self.ending_nav:.2f}''', doprint=True)\n",
    "\n",
    "    def get_analysis(self):\n",
    "        \n",
    "        self.equitydf['net_profit'] = self.equitydf['equity'].diff()\n",
    "\n",
    "        ret= {  'equitydf':self.equitydf,\n",
    "                'trade_count': self.trade_count,\n",
    "                'ending_NAV': self.ending_nav,\n",
    "                'P&L' : self.ending_nav-self.starting_nav }\n",
    "        ret.update(**vars(self.params))\n",
    "        return ret"
   ]
  },
  {
   "cell_type": "markdown",
   "metadata": {},
   "source": [
    "## Backtest set-up"
   ]
  },
  {
   "cell_type": "code",
   "execution_count": 13,
   "metadata": {
    "pycharm": {
     "is_executing": false
    }
   },
   "outputs": [],
   "source": [
    "def get_data(fname_symbol = 'CL', folder_name = '5min', suffix = '5min_20160103_20190405'):\n",
    "    df = pd.read_parquet(os.path.join('../../data/processed/{}/'.format(folder_name), '{}_{}.parquet'.format(fname_symbol, suffix)))\n",
    "    df = (df.resample('4h', label='left', base=18).agg({'Open': 'first', 'High': 'max', 'Low': 'min', 'Close': 'last', 'Volume': 'sum'}))\n",
    "    df.columns = [col_name.lower() for col_name in df.columns]\n",
    "    df = df.dropna()\n",
    "    return fname_symbol,df\n",
    "\n",
    "def set_broker_parameters(cerebro):\n",
    "    cerebro.broker.setcash(100000.)\n",
    "    cerebro.broker.setcommission(commission=2.5, margin=6000.0, mult=1000.0, name='CL')\n",
    "    cerebro.broker.set_slippage_fixed(.01, \n",
    "                              slip_open=True, \n",
    "                              slip_limit=True, \n",
    "                              slip_match=False, \n",
    "                              slip_out=True)\n",
    "\n",
    "def set_analyzers(cerebro):    \n",
    "    cerebro.addanalyzer(myAnalyzer, printlog=None)\n",
    "    cerebro.addanalyzer(bt.analyzers.TradeAnalyzer)\n",
    "    cerebro.addanalyzer(bt.analyzers.Transactions)\n",
    "    cerebro.addanalyzer(bt.analyzers.TimeReturn, timeframe=bt.TimeFrame.Days, _name='dayreturn')\n",
    "    cerebro.addanalyzer(bt.analyzers.SharpeRatio_A, riskfreerate=0,_name='mysharpe',timeframe=bt.TimeFrame.Days)#, compression=30)\n",
    "\n",
    "def set_opt_analyzers(cerebro):\n",
    "    cerebro.addanalyzer(myAnalyzer, printlog=None)\n",
    "    cerebro.addanalyzer(bt.analyzers.TimeReturn, timeframe=bt.TimeFrame.Days, _name='dayreturn')\n",
    "\n",
    "def set_sizers(cerebro):\n",
    "    cerebro.addsizer(bt.sizers.FixedSize, stake=1)\n",
    "    \n",
    "    \n",
    "def get_periods(start_is, is_duration, oos_duration, wf_offset,wf_cycles):\n",
    "    periods=[]\n",
    "    start_is=pd.Timestamp(start_is)\n",
    "    start_oos=start_is+pd.DateOffset(**is_duration)\n",
    "    end_oos=start_oos+pd.DateOffset(**oos_duration)\n",
    "    for i in range(wf_cycles):\n",
    "        periods.append({'run':i,\n",
    "                        'is':(start_is, start_oos),\n",
    "                        'oos':(start_oos, end_oos)})\n",
    "        start_is+=pd.DateOffset(**wf_offset)\n",
    "        start_oos+=pd.DateOffset(**wf_offset)\n",
    "        end_oos+=pd.DateOffset(**wf_offset)\n",
    "    return periods\n",
    "    \n",
    "periods= get_periods(\n",
    "    start_is = \"2017-01-01\", \n",
    "    is_duration={'months':3}, \n",
    "    oos_duration={'months':1},\n",
    "    wf_offset={'months':1},\n",
    "    wf_cycles=14\n",
    ")\n",
    "\n",
    "#periods"
   ]
  },
  {
   "cell_type": "markdown",
   "metadata": {},
   "source": [
    "## Optimization"
   ]
  },
  {
   "cell_type": "code",
   "execution_count": 14,
   "metadata": {
    "pycharm": {
     "is_executing": false
    }
   },
   "outputs": [
    {
     "name": "stdout",
     "text": [
      "Start/End: 2017-01-01 00:00:00 - 2018-05-01 00:00:00\n",
      "2018-04-30, {'stop_loss': 0.035, 'live': False, 'walkforward': None} \tEnding Value 114841.95\n"
     ],
     "output_type": "stream"
    },
    {
     "data": {
      "text/plain": "<Figure size 432x288 with 8 Axes>",
      "image/png": "[encoded data removed]"
     },
     "metadata": {
      "needs_background": "light"
     },
     "output_type": "display_data"
    },
    {
     "data": {
      "text/plain": "[[<Figure size 432x288 with 8 Axes>]]"
     },
     "metadata": {},
     "output_type": "execute_result",
     "execution_count": 14
    }
   ],
   "source": [
    "cerebro = bt.Cerebro(maxcpus=1)\n",
    "\n",
    "start_date = periods[0]['is'][0]\n",
    "end_date = periods[-1]['is'][1]\n",
    "print('Start/End: {} - {}'.format(start_date, end_date))\n",
    "\n",
    "# Add Strategy\n",
    "opt_args=dict(\n",
    "    stop_loss = np.arange(0.02, 0.055, 0.005))\n",
    "\n",
    "# cerebro.optstrategy(TestStrategy, **opt_args)\n",
    "cerebro.addstrategy(TestStrategy)\n",
    "\n",
    "set_broker_parameters(cerebro)\n",
    "\n",
    "set_opt_analyzers(cerebro)\n",
    "\n",
    "set_sizers(cerebro)\n",
    "\n",
    "data_name,df=get_data()\n",
    "\n",
    "\n",
    "data = bt.feeds.PandasData(dataname = df[start_date:end_date], timeframe=bt.TimeFrame.Minutes, compression=240)\n",
    "\n",
    "cerebro.adddata(data, name=data_name)\n",
    "cerebro.resampledata(data, timeframe=bt.TimeFrame.Weeks)\n",
    "\n",
    "\n",
    "results=cerebro.run(runonce=False)\n",
    "cerebro.plot(volume=False, iplot=True, style='candles')"
   ]
  },
  {
   "cell_type": "markdown",
   "metadata": {},
   "source": [
    "## Select per-period insample winners"
   ]
  },
  {
   "cell_type": "code",
   "execution_count": 15,
   "metadata": {
    "pycharm": {
     "is_executing": false
    }
   },
   "outputs": [
    {
     "name": "stdout",
     "text": [
      "In-Sample Period: 2017-01-01 00:00:00 - 2017-04-01 00:00:00\n"
     ],
     "output_type": "stream"
    },
    {
     "traceback": [
      "\u001b[1;31m---------------------------------------------------------------------------\u001b[0m",
      "\u001b[1;31mAttributeError\u001b[0m                            Traceback (most recent call last)",
      "\u001b[1;32m<ipython-input-15-5da3d34152d0>\u001b[0m in \u001b[0;36m<module>\u001b[1;34m\u001b[0m\n\u001b[0;32m      9\u001b[0m     \u001b[0mperiod_netprofit\u001b[0m \u001b[1;33m=\u001b[0m \u001b[1;33m[\u001b[0m\u001b[1;33m]\u001b[0m\u001b[1;33m\u001b[0m\u001b[0m\n\u001b[0;32m     10\u001b[0m     \u001b[1;32mfor\u001b[0m \u001b[1;33m[\u001b[0m\u001b[0mresult\u001b[0m\u001b[1;33m]\u001b[0m \u001b[1;32min\u001b[0m \u001b[0mresults\u001b[0m\u001b[1;33m:\u001b[0m\u001b[1;33m\u001b[0m\u001b[0m\n\u001b[1;32m---> 11\u001b[1;33m         \u001b[0mmyAnalysis\u001b[0m\u001b[1;33m=\u001b[0m\u001b[0mresult\u001b[0m\u001b[1;33m.\u001b[0m\u001b[0manalyzers\u001b[0m\u001b[1;33m.\u001b[0m\u001b[0mmyanalyzer\u001b[0m\u001b[1;33m.\u001b[0m\u001b[0mget_analysis\u001b[0m\u001b[1;33m(\u001b[0m\u001b[1;33m)\u001b[0m\u001b[1;33m\u001b[0m\u001b[0m\n\u001b[0m\u001b[0;32m     12\u001b[0m         \u001b[0mdf\u001b[0m \u001b[1;33m=\u001b[0m \u001b[0mmyAnalysis\u001b[0m\u001b[1;33m[\u001b[0m\u001b[1;34m'equitydf'\u001b[0m\u001b[1;33m]\u001b[0m\u001b[1;33m\u001b[0m\u001b[0m\n\u001b[0;32m     13\u001b[0m         \u001b[0moptim\u001b[0m\u001b[1;33m=\u001b[0m\u001b[1;33m[\u001b[0m\u001b[1;33m(\u001b[0m\u001b[0mkey\u001b[0m\u001b[1;33m,\u001b[0m \u001b[0mmyAnalysis\u001b[0m\u001b[1;33m[\u001b[0m\u001b[0mkey\u001b[0m\u001b[1;33m]\u001b[0m\u001b[1;33m)\u001b[0m \u001b[1;32mfor\u001b[0m \u001b[0mkey\u001b[0m \u001b[1;32min\u001b[0m \u001b[0mopt_args\u001b[0m\u001b[1;33m]\u001b[0m\u001b[1;33m\u001b[0m\u001b[0m\n",
      "\u001b[1;31mAttributeError\u001b[0m: 'float' object has no attribute 'analyzers'"
     ],
     "ename": "AttributeError",
     "evalue": "'float' object has no attribute 'analyzers'",
     "output_type": "error"
    }
   ],
   "source": [
    "# Get in-sample and out-of-sample best parameters with correct pre-allocation\n",
    "for period in periods:\n",
    "    # Get the insample time period\n",
    "    insample_start = period['is'][0]\n",
    "    insample_end = period['is'][1]\n",
    "    print('In-Sample Period: {} - {}'.format(insample_start, insample_end))\n",
    "    \n",
    "    # Put the best parameters and best profit into a list\n",
    "    period_netprofit = []\n",
    "    for [result] in results:\n",
    "        myAnalysis=result.analyzers.myanalyzer.get_analysis()\n",
    "        df = myAnalysis['equitydf']\n",
    "        optim=[(key, myAnalysis[key]) for key in opt_args]\n",
    "        \n",
    "        period_profit = df[insample_start:insample_end]['net_profit'].sum()\n",
    "        print(f'\\t{dict(optim)}: {period_profit}')\n",
    "        period_netprofit.append((optim, period_profit,df))\n",
    "\n",
    "        \n",
    "    # Get the best profit parameters\n",
    "    max_params, max_profit, best_equity = max(period_netprofit, key=lambda x:x[1])\n",
    "    \n",
    "    # Add it to the dictionary\n",
    "    print(f'Best is: {dict(max_params)} with {max_profit} profit\\n')\n",
    "    period['best_insample_param'] = max_params\n",
    "    period['best_insample_profit'] = max_profit\n",
    "    period['best_equity'] = best_equity"
   ]
  },
  {
   "cell_type": "markdown",
   "metadata": {},
   "source": [
    "## Walk-forward Efficiency"
   ]
  },
  {
   "cell_type": "code",
   "execution_count": 16,
   "metadata": {
    "pycharm": {
     "is_executing": false
    }
   },
   "outputs": [
    {
     "name": "stdout",
     "text": [
      "Out-of-Sample Period: 2017-04-01 00:00:00 - 2017-05-01 00:00:00\n"
     ],
     "output_type": "stream"
    },
    {
     "traceback": [
      "\u001b[1;31m---------------------------------------------------------------------------\u001b[0m",
      "\u001b[1;31mKeyError\u001b[0m                                  Traceback (most recent call last)",
      "\u001b[1;32m<ipython-input-16-1bb752c47818>\u001b[0m in \u001b[0;36m<module>\u001b[1;34m\u001b[0m\n\u001b[0;32m      8\u001b[0m     \u001b[0mprint\u001b[0m\u001b[1;33m(\u001b[0m\u001b[1;34mf'Out-of-Sample Period: {oos_start} - {oos_end}'\u001b[0m\u001b[1;33m)\u001b[0m\u001b[1;33m\u001b[0m\u001b[0m\n\u001b[0;32m      9\u001b[0m \u001b[1;33m\u001b[0m\u001b[0m\n\u001b[1;32m---> 10\u001b[1;33m     \u001b[0minsample_profit\u001b[0m \u001b[1;33m=\u001b[0m \u001b[0mperiod\u001b[0m\u001b[1;33m[\u001b[0m\u001b[1;34m'best_insample_profit'\u001b[0m\u001b[1;33m]\u001b[0m\u001b[1;33m\u001b[0m\u001b[0m\n\u001b[0m\u001b[0;32m     11\u001b[0m     \u001b[0moos_profit\u001b[0m \u001b[1;33m=\u001b[0m \u001b[0mperiod\u001b[0m\u001b[1;33m[\u001b[0m\u001b[1;34m'best_equity'\u001b[0m\u001b[1;33m]\u001b[0m\u001b[1;33m[\u001b[0m\u001b[1;34m'net_profit'\u001b[0m\u001b[1;33m]\u001b[0m\u001b[1;33m[\u001b[0m\u001b[0moos_start\u001b[0m\u001b[1;33m:\u001b[0m\u001b[0moos_end\u001b[0m\u001b[1;33m]\u001b[0m\u001b[1;33m.\u001b[0m\u001b[0msum\u001b[0m\u001b[1;33m(\u001b[0m\u001b[1;33m)\u001b[0m\u001b[1;33m\u001b[0m\u001b[0m\n\u001b[0;32m     12\u001b[0m \u001b[1;33m\u001b[0m\u001b[0m\n",
      "\u001b[1;31mKeyError\u001b[0m: 'best_insample_profit'"
     ],
     "ename": "KeyError",
     "evalue": "'best_insample_profit'",
     "output_type": "error"
    }
   ],
   "source": [
    "# Get in-sample and out-of-sample best parameters with correct pre-allocation\n",
    "all_walkforward_efficiency = []\n",
    "all_is_profits = []\n",
    "all_oos_profits=[]\n",
    "for period in periods:\n",
    "    # Get the insample time period\n",
    "    oos_start, oos_end = period['oos']\n",
    "    print(f'Out-of-Sample Period: {oos_start} - {oos_end}')\n",
    "\n",
    "    insample_profit = period['best_insample_profit']\n",
    "    oos_profit = period['best_equity']['net_profit'][oos_start:oos_end].sum()\n",
    "    \n",
    "    insample_annual_profit = 365/ (period['is'][1]-period['is'][0]).days * insample_profit\n",
    "    oos_annual_profit = 365/(period['oos'][1]-period['oos'][0]).days * oos_profit\n",
    " \n",
    "    # Calculate WFE\n",
    "    sgn = 1 if insample_profit > 0 else -1\n",
    "    period['wfe'] = sgn*oos_annual_profit/ insample_annual_profit * 100 \n",
    "    \n",
    "\n",
    "    all_walkforward_efficiency.append(period['wfe'])\n",
    "    all_is_profits.append(insample_annual_profit)\n",
    "    all_oos_profits.append(oos_annual_profit)\n",
    "    \n",
    "    print(f'\\t Period Profit IS:{insample_profit:0.2f} / OOS:{oos_profit:0.2f}')\n",
    "    print(f'\\t Annualized Profit IS:{insample_annual_profit:0.2f} / OOS:{oos_annual_profit:0.2f}')\n",
    "    print(f\"\\t WFE: {period['wfe']:0.1f}%\")\n",
    "\n",
    "wfe = sum(all_walkforward_efficiency) / len(all_walkforward_efficiency) \n",
    "\n",
    "\n",
    "# print(f'Average WFE: {wfe:0.1f}%')\n",
    "    \n",
    "\n",
    "wfe2 = 100*sum(all_oos_profits) / sum(all_is_profits) \n",
    "\n",
    "print(f'Effective WFE[2]: {wfe2:0.1f}%')"
   ]
  },
  {
   "cell_type": "markdown",
   "metadata": {},
   "source": [
    "## Walk-forward Equity Curve"
   ]
  },
  {
   "cell_type": "code",
   "execution_count": null,
   "metadata": {
    "pycharm": {
     "is_executing": false
    }
   },
   "outputs": [],
   "source": [
    "cerebro = bt.Cerebro()\n",
    "\n",
    "start_date = periods[0]['oos'][0]\n",
    "end_date = periods[-1]['oos'][1]\n",
    "print('Start/End: {} - {}'.format(start_date, end_date))\n",
    "\n",
    "cerebro.addstrategy(TestStrategy, walkforward=periods)\n",
    "\n",
    "set_broker_parameters(cerebro)\n",
    "\n",
    "set_analyzers(cerebro)\n",
    "\n",
    "set_sizers(cerebro)\n",
    "\n",
    "data_name,df=get_data()\n",
    "\n",
    "data = bt.feeds.PandasData(dataname = df[start_date:end_date], timeframe=bt.TimeFrame.Minutes, compression=240)\n",
    "\n",
    "cerebro.adddata(data, name=data_name)\n",
    "cerebro.resampledata(data, timeframe=bt.TimeFrame.Weeks)\n",
    "print('Starting Portfolio Value: %.2f' % cerebro.broker.getvalue())\n",
    "\n",
    "[result]=cerebro.run()"
   ]
  },
  {
   "cell_type": "code",
   "execution_count": null,
   "metadata": {
    "pycharm": {
     "is_executing": false
    }
   },
   "outputs": [],
   "source": [
    "# Print out the final result\n",
    "print('Final Portfolio Value: %.2f' % cerebro.broker.getvalue())\n",
    "dr = result.analyzers.dayreturn.get_analysis()\n",
    "df = pd.DataFrame(dr.items()).set_index(0)#.loc[:,1]\n",
    "cumsum= df.cumsum()\n",
    "r = result.analyzers.myanalyzer.get_analysis()\n",
    "plt.figure(figsize=(10,5))\n",
    "plt.plot(r['equitydf']['net_profit'].cumsum())##cumsum)\n",
    "# plt.plot(cumsum*(r['ending_NAV']-r['P&L']))\n",
    "plt.title('Walkforward Equity Curve')\n",
    "plt.xlabel('Trades')\n",
    "plt.ylabel('Equity')"
   ]
  },
  {
   "cell_type": "code",
   "execution_count": null,
   "metadata": {
    "pycharm": {
     "is_executing": false
    }
   },
   "outputs": [],
   "source": [
    "# Initialize\n",
    "margin = 5000\n",
    "mc = MonteCarlo(r['equitydf']['net_profit'].values[1:])\n",
    "\n",
    "# We will sample with replacement the number of trades per year\n",
    "# so we need the start and end date to determine how many trades at in a year on average\n",
    "mc.settings(margin, start_date, end_date)\n",
    "\n",
    "# Test different levels of equity starting at this value\n",
    "trial_starting_equity = int(margin * 1.5)\n",
    "\n",
    "# Run the Monte Carlo\n",
    "results = mc.run(trial_starting_equity)"
   ]
  },
  {
   "cell_type": "code",
   "execution_count": null,
   "metadata": {
    "pycharm": {
     "is_executing": false
    }
   },
   "outputs": [],
   "source": [
    "# Put the results in a dataframe so it's nicer to look at in notebook\n",
    "# Our goal is to get the highest equity below 10% Risk of Ruin\n",
    "df = pd.DataFrame(index=range(1,len(results)))\n",
    "count = 1\n",
    "for result in results:\n",
    "    df.loc[count, 'equity'] = result['equity']\n",
    "    df.loc[count, 'is_ruined'] = result['is_ruined']\n",
    "    df.loc[count, 'is_profitable'] = result['is_profitable']\n",
    "    df.loc[count, 'returns_pct'] = result['returns_pct']\n",
    "    df.loc[count, 'drawdown_pct'] = result['drawdown_pct']\n",
    "    df.loc[count, 'returns_per_drawdown'] = result['returns_per_drawdown']\n",
    "    count += 1\n",
    "\n",
    "# Get the recommended values\n",
    "recommended = df[df['is_ruined'] <= 10].iloc[0]\n",
    "print('Recommend a starting equity of {}, which has {:0.2}% Risk-of-Ruin, \\n\\t{:0.0f}% Probability-of-Profit and a {:0.2f} Returns/Drawdown Ratio'.format(\n",
    "                recommended['equity'], recommended['is_ruined'], \n",
    "                recommended['is_profitable'], recommended['returns_per_drawdown']))\n",
    "\n",
    "if recommended['is_ruined'] > 10 or recommended['returns_per_drawdown'] < 2.0:\n",
    "    print(\"Risk Assessment: FAILED\")\n",
    "else:\n",
    "    print(\"Risk Assessment: PASSED\")\n",
    "\n",
    "mc_1p5x = recommended['drawdown_pct'] * 1.5\n",
    "print(\"MC-Drawdown: {:0.1f}% MC-1.5x-DD: {:0.1f}%\".format(recommended['drawdown_pct'], mc_1p5x))\n",
    "\n",
    "profit = recommended['equity'] * recommended['returns_pct'] / 100\n",
    "months = (end_date - start_date).days/30\n",
    "average_monthly_net_profit = profit / months\n",
    "print(\"Average monthly net profit: {:0.1f}\".format(average_monthly_net_profit))\n",
    "\n",
    "df"
   ]
  },
  {
   "cell_type": "code",
   "execution_count": null,
   "metadata": {
    "pycharm": {
     "is_executing": false
    }
   },
   "outputs": [],
   "source": []
  },
  {
   "cell_type": "code",
   "execution_count": null,
   "metadata": {
    "pycharm": {
     "is_executing": false
    }
   },
   "outputs": [],
   "source": []
  },
  {
   "cell_type": "code",
   "execution_count": null,
   "metadata": {
    "pycharm": {
     "is_executing": false
    }
   },
   "outputs": [],
   "source": []
  }
 ],
 "metadata": {
  "kernelspec": {
   "display_name": "Python 3",
   "language": "python",
   "name": "python3"
  },
  "language_info": {
   "codemirror_mode": {
    "name": "ipython",
    "version": 3
   },
   "file_extension": ".py",
   "mimetype": "text/x-python",
   "name": "python",
   "nbconvert_exporter": "python",
   "pygments_lexer": "ipython3",
   "version": "3.6.8"
  },
  "toc": {
   "base_numbering": 1,
   "nav_menu": {},
   "number_sections": true,
   "sideBar": true,
   "skip_h1_title": false,
   "title_cell": "Table of Contents",
   "title_sidebar": "Contents",
   "toc_cell": false,
   "toc_position": {},
   "toc_section_display": true,
   "toc_window_display": false
  },
  "pycharm": {
   "stem_cell": {
    "cell_type": "raw",
    "source": [],
    "metadata": {
     "collapsed": false
    }
   }
  }
 },
 "nbformat": 4,
 "nbformat_minor": 2
}